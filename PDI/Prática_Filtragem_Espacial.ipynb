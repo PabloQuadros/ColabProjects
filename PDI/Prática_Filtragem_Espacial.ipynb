{
  "cells": [
    {
      "cell_type": "markdown",
      "metadata": {
        "colab_type": "text",
        "id": "view-in-github"
      },
      "source": [
        "<a href=\"https://colab.research.google.com/github/VielF/ColabProjects/blob/main/Pr%C3%A1tica_Filtragem_Espacial.ipynb\" target=\"_parent\"><img src=\"https://colab.research.google.com/assets/colab-badge.svg\" alt=\"Open In Colab\"/></a>"
      ]
    },
    {
      "cell_type": "markdown",
      "metadata": {
        "id": "0A4cGaP0THOB"
      },
      "source": [
        "Universidade do Vale do Itajaí<br>\n",
        "Escola Politécnica<br>\n",
        "Processamento Digital de Sinais: Imagens\n",
        "\n",
        "# Exercício Avalitivo de Filtragem Espacial\n",
        "\n",
        "### Tutoriais da OpenCV\n",
        "\n",
        "- https://docs.opencv.org/master/d9/df8/tutorial_root.html\n",
        "- https://www.geeksforgeeks.org/opencv-python-tutorial/"
      ]
    },
    {
      "cell_type": "markdown",
      "metadata": {
        "id": "jNEPMubMTHOC"
      },
      "source": [
        "## Conversão de imagem RGB em imagem Grayscale"
      ]
    },
    {
      "cell_type": "code",
      "execution_count": 2,
      "metadata": {
        "id": "V9LgCTiuTHOD"
      },
      "outputs": [],
      "source": [
        "import cv2\n",
        "import numpy as np\n",
        "import matplotlib.pyplot as plt\n",
        "#from google.colab.patches import cv2_imshow\n"
      ]
    },
    {
      "cell_type": "code",
      "execution_count": 3,
      "metadata": {
        "id": "ls0tquF8THOD"
      },
      "outputs": [],
      "source": [
        "#abria a imagem\n",
        "img = cv2.imread('../dataset/OperacaoPontuais_FiltroEspacial/data/t1.jpg',1)\n",
        "#cv2_imshow(img)"
      ]
    },
    {
      "cell_type": "code",
      "execution_count": 4,
      "metadata": {
        "id": "6cCMWllFTHOE"
      },
      "outputs": [],
      "source": [
        "#mostrando a imagem colorida\n",
        "cv2.imshow('in', img)\n",
        "cv2.waitKey(0)\n",
        "cv2.destroyAllWindows()"
      ]
    },
    {
      "cell_type": "code",
      "execution_count": 8,
      "metadata": {
        "id": "H_qCe356THOE"
      },
      "outputs": [],
      "source": [
        "#aplicando conversão básica\n",
        "#numpy\n",
        "#img_grayscale_basic = (img[ : , : ,0]+img[ : , : ,1]+img[ : , : ,2])/3\n",
        "\n",
        "#cv2\n",
        "B, G, R = cv2.split(img)\n",
        "img_grayscale_basic = (B+G+R)/3\n",
        "#converter a imagem em tons de cinza para o tipo uint8 garante que os valores dos pixels estejam dentro do intervalo 0 255\n",
        "img_grayscale_basic = np.array(img_grayscale_basic, dtype=np.uint8)\n",
        "\n",
        "cv2.imshow('img_grayscale_basic', img_grayscale_basic)\n",
        "cv2.waitKey(0)\n",
        "cv2.destroyAllWindows()"
      ]
    },
    {
      "cell_type": "code",
      "execution_count": 5,
      "metadata": {
        "id": "h5xJiS7ETHOE"
      },
      "outputs": [],
      "source": [
        "#aplicando conversão luminancia ponderada\n",
        "#img_grayscale_basic = 0.299*img[ : , : ,0] + 0.587*img[ : , : ,1] + 0.114*img[ : , : ,2]\n",
        "\n",
        "#cv2\n",
        "B, G, R = cv2.split(img)\n",
        "img_grayscale_pondered = 0.299*B+0.587*G+0.114*R\n",
        "\n",
        "img_grayscale_pondered = np.array(img_grayscale_pondered, dtype=np.uint8)\n",
        "\n",
        "cv2.imshow('img_grayscale_basic', img_grayscale_pondered)\n",
        "cv2.waitKey(0)\n",
        "cv2.destroyAllWindows()"
      ]
    },
    {
      "cell_type": "markdown",
      "metadata": {
        "id": "O-Q8z4jJTHOF"
      },
      "source": [
        "## Filtro Espacial\n"
      ]
    },
    {
      "cell_type": "code",
      "execution_count": 7,
      "metadata": {
        "id": "V8CV7s2jTHOF"
      },
      "outputs": [],
      "source": [
        "def gauss_create(sigma=1, size_x=3, size_y=3):\n",
        "    '''\n",
        "    Create normal (gaussian) distribuiton\n",
        "    '''\n",
        "    x, y = np.meshgrid(np.linspace(-1,1,size_x), np.linspace(-1,1,size_y))\n",
        "    calc = 1/((2*np.pi*(sigma**2)))\n",
        "    exp = np.exp(-(((x**2) + (y**2))/(2*(sigma**2))))\n",
        "    \n",
        "    return exp*calc\n",
        "   "
      ]
    },
    {
      "cell_type": "markdown",
      "metadata": {
        "id": "k9wenP4STHOF"
      },
      "source": [
        "### Suavização\n",
        "\n",
        "1. Implemente a sua própria convolução manualmente, em formato de função, utilizando os conceitos vistos em aula\n",
        "2. Aplique a filtragem de suavização, com as máscaras 3x3, 5x5 e 7x7, com os filtros:\n",
        " - média\n",
        " - gaussino (escolha uma distribuição adequada, podendo utilizar a função acima ou recuperando a distribuição usada na OpenCV)\n",
        " - mediana \n",
        "3. Relate as observações visíveis nas imagens de saída com os filtros usados, descrevendo o comportamento visual em relação as bordas, ruídos e esmaecimento da imagem com os diferentes kernels\n",
        "\n",
        "#### Dicas\n",
        " - Você pode adicionar ruído nas imagens usando a função random_noise: `from skimage.util import random_noise`. Cuidado com o retorno da função, talvez seja necessário regularizar a mesma novamente para o intervalo de 0 à 255."
      ]
    },
    {
      "cell_type": "code",
      "execution_count": 82,
      "metadata": {
        "id": "Chgyg8wWTHOG"
      },
      "outputs": [],
      "source": [
        "\n",
        "def convolucao_manual_cinza(imagem, kernel):\n",
        "    altura_imagem = imagem.shape[0]\n",
        "    largura_imagem = imagem.shape[1]\n",
        "    altura_kernel, largura_kernel = kernel.shape\n",
        "\n",
        "    # Inicialize uma matriz para a imagem resultante\n",
        "    imagem_resultante = np.zeros_like(imagem)\n",
        "\n",
        "    # Calcule as margens para garantir que o kernel seja aplicado corretamente\n",
        "    margem_vertical = altura_kernel // 2\n",
        "    margem_horizontal = largura_kernel // 2\n",
        "\n",
        "    # Realize a convolução\n",
        "    for i in range(margem_vertical, altura_imagem - margem_vertical):\n",
        "        for j in range(margem_horizontal, largura_imagem - margem_horizontal):\n",
        "            # Extraia a região da imagem correspondente ao kernel\n",
        "            regiao = imagem[i - margem_vertical:i + margem_vertical + 1, j - margem_horizontal:j + margem_horizontal + 1]\n",
        "\n",
        "            # Aplique o kernel à região e some os produtos\n",
        "            valor_pixel = np.sum(regiao * kernel)\n",
        "\n",
        "            # Atribua o valor resultante à imagem de saída\n",
        "            imagem_resultante[i, j] = valor_pixel\n",
        "\n",
        "    return imagem_resultante"
      ]
    },
    {
      "cell_type": "code",
      "execution_count": 83,
      "metadata": {},
      "outputs": [],
      "source": [
        "import numpy as np\n",
        "\n",
        "def convolucao_manual_colorida(imagem, kernel):\n",
        "    altura_imagem = imagem.shape[0]\n",
        "    largura_imagem = imagem.shape[1]\n",
        "    canais = imagem.shape[2]\n",
        "    altura_kernel, largura_kernel = kernel.shape\n",
        "\n",
        "    # Inicialize uma matriz para a imagem resultante\n",
        "    imagem_resultante = np.zeros_like(imagem)\n",
        "\n",
        "    # Calcule as margens para garantir que o kernel seja aplicado corretamente\n",
        "    margem_vertical = altura_kernel // 2\n",
        "    margem_horizontal = largura_kernel // 2\n",
        "\n",
        "    # Realize a convolução para cada canal de cor\n",
        "    for canal in range(canais):\n",
        "        for i in range(margem_vertical, altura_imagem - margem_vertical):\n",
        "            for j in range(margem_horizontal, largura_imagem - margem_horizontal):\n",
        "                # Extraia a região da imagem correspondente ao kernel para o canal atual\n",
        "                regiao = imagem[i - margem_vertical:i + margem_vertical + 1, j - margem_horizontal:j + margem_horizontal + 1, canal]\n",
        "\n",
        "                # Aplique o kernel à região e some os produtos\n",
        "                valor_pixel = np.sum(regiao * kernel)\n",
        "\n",
        "                # Atribua o valor resultante à imagem de saída para o canal atual\n",
        "                imagem_resultante[i, j, canal] = valor_pixel\n",
        "\n",
        "    return imagem_resultante"
      ]
    },
    {
      "cell_type": "code",
      "execution_count": 113,
      "metadata": {},
      "outputs": [],
      "source": [
        "img_gray = cv2.imread('../dataset/OperacaoPontuais_FiltroEspacial/data/cmyk_paint.png',0)\n",
        "img = cv2.imread('../dataset/OperacaoPontuais_FiltroEspacial/data/cmyk_paint.png',1)\n",
        "# Defina um kernel de suavização (filtro média 3x3)\n",
        "kernel = np.array([[-1, -1, -1],\n",
        "                  [-1, 8, -1],\n",
        "                  [-1, -1, -1]])\n",
        "\n",
        "# Aplique a convolução\n",
        "imagem_resultante_cinza = convolucao_manual_cinza(img_gray, kernel)\n",
        "imagem_resultante_col = convolucao_manual_colorida(img, kernel)\n",
        "\n",
        "cv2.imshow('imagem_resultante_cinza', imagem_resultante_cinza)\n",
        "cv2.imshow('imagem_resultante_col', imagem_resultante_col)\n",
        "cv2.waitKey(0)\n",
        "cv2.destroyAllWindows()"
      ]
    },
    {
      "cell_type": "code",
      "execution_count": 114,
      "metadata": {},
      "outputs": [],
      "source": [
        "# Defina a média e o desvio padrão para o ruído gaussiano\n",
        "media = 0\n",
        "desvio_padrao = 0.5\n",
        "\n",
        "# Crie uma matriz com ruído gaussiano\n",
        "ruido = np.random.normal(media, desvio_padrao, img.shape).astype(np.uint8)\n",
        "\n",
        "# Adicione o ruído à imagem\n",
        "imagem_ruidosa = cv2.add(img, ruido)\n",
        "\n",
        "# Aplique filtros de suavização\n",
        "suavizacao_media_3x3 = cv2.blur(imagem_ruidosa, (3, 3))\n",
        "suavizacao_media_5x5 = cv2.blur(imagem_ruidosa, (5, 5))\n",
        "suavizacao_media_7x7 = cv2.blur(imagem_ruidosa, (7, 7))\n",
        "\n",
        "sigma = 1  # Valor do desvio padrão para o filtro gaussiano\n",
        "\n",
        "suavizacao_gaussiana_3x3 = cv2.GaussianBlur(imagem_ruidosa, (3, 3), sigma)\n",
        "suavizacao_gaussiana_5x5 = cv2.GaussianBlur(imagem_ruidosa, (5, 5), sigma)\n",
        "suavizacao_gaussiana_7x7 = cv2.GaussianBlur(imagem_ruidosa, (7, 7), sigma)\n",
        "\n",
        "suavizacao_mediana_3x3 = cv2.medianBlur(imagem_ruidosa, 3)\n",
        "suavizacao_mediana_5x5 = cv2.medianBlur(imagem_ruidosa, 5)\n",
        "suavizacao_mediana_7x7 = cv2.medianBlur(imagem_ruidosa, 7)\n",
        "\n",
        "# Exiba as imagens suavizadas\n",
        "cv2.imshow('Suavizacao Media 3x3', suavizacao_media_3x3)\n",
        "cv2.imshow('Suavizacao Media 5x5', suavizacao_media_5x5)\n",
        "cv2.imshow('Suavizacao Media 7x7', suavizacao_media_7x7)\n",
        "cv2.imshow('Suavizacao Gaussiana 3x3', suavizacao_gaussiana_3x3)\n",
        "cv2.imshow('Suavizacao Gaussiana 5x5', suavizacao_gaussiana_5x5)\n",
        "cv2.imshow('Suavizacao Gaussiana 7x7', suavizacao_gaussiana_7x7)\n",
        "cv2.imshow('Suavizacao Mediana 3x3', suavizacao_mediana_3x3)\n",
        "cv2.imshow('Suavizacao Mediana 5x5', suavizacao_mediana_5x5)\n",
        "cv2.imshow('Suavizacao Mediana 7x7', suavizacao_mediana_7x7)\n",
        "\n",
        "# Aguarde o usuário pressionar uma tecla e depois feche as janelas\n",
        "cv2.waitKey(0)\n",
        "cv2.destroyAllWindows()"
      ]
    },
    {
      "cell_type": "markdown",
      "metadata": {
        "id": "uGbbZhqPTHOG"
      },
      "source": [
        "### Sharpening\n",
        "\n",
        "4. Implemente os filtros de sharpening, utilizando as diferentes mascarás apresentadas no livro de referência da disciplina:\n",
        " - Laplaciano (figura 3.37)\n",
        " - Sharpening implementado na figura 3.38\n",
        " - Unsharp Masking e Highboost Filtering\n",
        " - Implemente os detectores de borda Laplaciano, Roberts e Sobel\n",
        " - Utilize a função Canny da OpenCV na mesma imagem usando nos outros detectores\n",
        " \n",
        "5. Relate as observações visíveis nas imagens de saída com os filtros usados, descrevendo o comportamento visual em relação as bordas, ruídos e esmaecimento da imagem com os diferentes kernels e para os diferentes algoritmos\n",
        "6. Você observa uma discrepante melhoria na detecção de bordas pelo Canny em comparação aos outros 3 que justifique a complexidade adicional?\n",
        "7. Aplique o filtro Sobel pós operação com um filtro de suavização (a sua escolha) e compare com a saída do Canny. Descreva suas observações técnicas sobre o comportamento."
      ]
    },
    {
      "cell_type": "code",
      "execution_count": null,
      "metadata": {
        "id": "UYUu1wKoTHOG"
      },
      "outputs": [],
      "source": []
    },
    {
      "cell_type": "code",
      "execution_count": null,
      "metadata": {
        "id": "3cjlIt6CTHOG"
      },
      "outputs": [],
      "source": []
    }
  ],
  "metadata": {
    "colab": {
      "include_colab_link": true,
      "name": "Prática - Filtragem Espacial.ipynb",
      "provenance": []
    },
    "kernelspec": {
      "display_name": "Python 3",
      "language": "python",
      "name": "python3"
    },
    "language_info": {
      "codemirror_mode": {
        "name": "ipython",
        "version": 3
      },
      "file_extension": ".py",
      "mimetype": "text/x-python",
      "name": "python",
      "nbconvert_exporter": "python",
      "pygments_lexer": "ipython3",
      "version": "3.12.0"
    }
  },
  "nbformat": 4,
  "nbformat_minor": 0
}
