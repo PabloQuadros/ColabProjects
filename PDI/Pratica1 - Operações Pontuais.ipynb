{
 "cells": [
  {
   "cell_type": "markdown",
   "metadata": {},
   "source": [
    "Universidade do Vale do Itajaí<br>\n",
    "Escola Politécnica<br>\n",
    "Processamento Digital de Sinais: Imagens\n",
    "\n",
    "# Prática com Operações Pontuais e OpenCV\n",
    "\n",
    "### Tutoriais da OpenCV\n",
    "\n",
    "- https://docs.opencv.org/master/d9/df8/tutorial_root.html\n",
    "- https://www.geeksforgeeks.org/opencv-python-tutorial/"
   ]
  },
  {
   "cell_type": "markdown",
   "metadata": {},
   "source": [
    "## Conversão de imagem RGB em imagem Grayscale"
   ]
  },
  {
   "cell_type": "code",
   "execution_count": 4,
   "metadata": {},
   "outputs": [
    {
     "name": "stdout",
     "output_type": "stream",
     "text": [
      "Collecting opencv-python\n",
      "  Downloading opencv_python-4.8.1.78-cp37-abi3-win_amd64.whl.metadata (20 kB)\n",
      "Requirement already satisfied: numpy>=1.21.2 in c:\\python312\\lib\\site-packages (from opencv-python) (1.26.1)\n",
      "Downloading opencv_python-4.8.1.78-cp37-abi3-win_amd64.whl (38.1 MB)\n",
      "   ---------------------------------------- 0.0/38.1 MB ? eta -:--:--\n",
      "   ---------------------------------------- 0.0/38.1 MB 1.9 MB/s eta 0:00:20\n",
      "   ---------------------------------------- 0.3/38.1 MB 3.8 MB/s eta 0:00:10\n",
      "   - -------------------------------------- 1.0/38.1 MB 7.9 MB/s eta 0:00:05\n",
      "   - -------------------------------------- 1.6/38.1 MB 9.5 MB/s eta 0:00:04\n",
      "   -- ------------------------------------- 2.7/38.1 MB 12.4 MB/s eta 0:00:03\n",
      "   --- ------------------------------------ 3.4/38.1 MB 12.6 MB/s eta 0:00:03\n",
      "   ---- ----------------------------------- 4.3/38.1 MB 14.5 MB/s eta 0:00:03\n",
      "   ----- ---------------------------------- 4.8/38.1 MB 13.3 MB/s eta 0:00:03\n",
      "   ----- ---------------------------------- 4.9/38.1 MB 13.7 MB/s eta 0:00:03\n",
      "   ------- -------------------------------- 6.7/38.1 MB 15.4 MB/s eta 0:00:03\n",
      "   -------- ------------------------------- 7.8/38.1 MB 16.1 MB/s eta 0:00:02\n",
      "   --------- ------------------------------ 9.0/38.1 MB 16.9 MB/s eta 0:00:02\n",
      "   ---------- ----------------------------- 10.0/38.1 MB 17.4 MB/s eta 0:00:02\n",
      "   ----------- ---------------------------- 11.2/38.1 MB 20.5 MB/s eta 0:00:02\n",
      "   ------------ --------------------------- 12.4/38.1 MB 21.8 MB/s eta 0:00:02\n",
      "   ------------- -------------------------- 13.1/38.1 MB 20.5 MB/s eta 0:00:02\n",
      "   -------------- ------------------------- 14.2/38.1 MB 21.1 MB/s eta 0:00:02\n",
      "   ---------------- ----------------------- 15.4/38.1 MB 26.2 MB/s eta 0:00:01\n",
      "   ----------------- ---------------------- 16.5/38.1 MB 23.4 MB/s eta 0:00:01\n",
      "   ------------------ --------------------- 17.4/38.1 MB 23.4 MB/s eta 0:00:01\n",
      "   ------------------- -------------------- 18.4/38.1 MB 23.4 MB/s eta 0:00:01\n",
      "   -------------------- ------------------- 19.4/38.1 MB 22.6 MB/s eta 0:00:01\n",
      "   --------------------- ------------------ 20.7/38.1 MB 22.6 MB/s eta 0:00:01\n",
      "   ---------------------- ----------------- 21.8/38.1 MB 22.6 MB/s eta 0:00:01\n",
      "   ------------------------ --------------- 22.9/38.1 MB 23.4 MB/s eta 0:00:01\n",
      "   ------------------------- -------------- 24.0/38.1 MB 23.4 MB/s eta 0:00:01\n",
      "   -------------------------- ------------- 25.3/38.1 MB 23.4 MB/s eta 0:00:01\n",
      "   --------------------------- ------------ 26.4/38.1 MB 23.4 MB/s eta 0:00:01\n",
      "   ---------------------------- ----------- 27.3/38.1 MB 23.4 MB/s eta 0:00:01\n",
      "   ------------------------------ --------- 28.5/38.1 MB 23.4 MB/s eta 0:00:01\n",
      "   ------------------------------- -------- 29.7/38.1 MB 25.2 MB/s eta 0:00:01\n",
      "   -------------------------------- ------- 30.9/38.1 MB 24.2 MB/s eta 0:00:01\n",
      "   --------------------------------- ------ 32.1/38.1 MB 24.2 MB/s eta 0:00:01\n",
      "   ----------------------------------- ---- 33.3/38.1 MB 24.2 MB/s eta 0:00:01\n",
      "   ------------------------------------ --- 34.4/38.1 MB 25.2 MB/s eta 0:00:01\n",
      "   ------------------------------------- -- 35.6/38.1 MB 24.2 MB/s eta 0:00:01\n",
      "   -------------------------------------- - 36.6/38.1 MB 24.2 MB/s eta 0:00:01\n",
      "   ---------------------------------------  37.9/38.1 MB 24.2 MB/s eta 0:00:01\n",
      "   ---------------------------------------  38.1/38.1 MB 25.2 MB/s eta 0:00:01\n",
      "   ---------------------------------------- 38.1/38.1 MB 21.8 MB/s eta 0:00:00\n",
      "Installing collected packages: opencv-python\n",
      "Successfully installed opencv-python-4.8.1.78\n",
      "Requirement already satisfied: numpy in c:\\python312\\lib\\site-packages (1.26.1)\n",
      "Collecting matplotlib\n",
      "  Using cached matplotlib-3.8.0-cp312-cp312-win_amd64.whl.metadata (5.9 kB)\n",
      "Collecting contourpy>=1.0.1 (from matplotlib)\n",
      "  Using cached contourpy-1.1.1-cp312-cp312-win_amd64.whl.metadata (5.9 kB)\n",
      "Collecting cycler>=0.10 (from matplotlib)\n",
      "  Using cached cycler-0.12.1-py3-none-any.whl.metadata (3.8 kB)\n",
      "Requirement already satisfied: fonttools>=4.22.0 in c:\\python312\\lib\\site-packages (from matplotlib) (4.43.1)\n",
      "Requirement already satisfied: kiwisolver>=1.0.1 in c:\\python312\\lib\\site-packages (from matplotlib) (1.4.5)\n",
      "Requirement already satisfied: numpy<2,>=1.21 in c:\\python312\\lib\\site-packages (from matplotlib) (1.26.1)\n",
      "Requirement already satisfied: packaging>=20.0 in c:\\users\\pablo\\appdata\\roaming\\python\\python312\\site-packages (from matplotlib) (23.2)\n",
      "Requirement already satisfied: pillow>=6.2.0 in c:\\python312\\lib\\site-packages (from matplotlib) (10.1.0)\n",
      "Requirement already satisfied: pyparsing>=2.3.1 in c:\\python312\\lib\\site-packages (from matplotlib) (3.1.1)\n",
      "Requirement already satisfied: python-dateutil>=2.7 in c:\\users\\pablo\\appdata\\roaming\\python\\python312\\site-packages (from matplotlib) (2.8.2)\n",
      "Requirement already satisfied: six>=1.5 in c:\\users\\pablo\\appdata\\roaming\\python\\python312\\site-packages (from python-dateutil>=2.7->matplotlib) (1.16.0)\n",
      "Using cached matplotlib-3.8.0-cp312-cp312-win_amd64.whl (7.6 MB)\n",
      "Using cached contourpy-1.1.1-cp312-cp312-win_amd64.whl (486 kB)\n",
      "Using cached cycler-0.12.1-py3-none-any.whl (8.3 kB)\n",
      "Installing collected packages: cycler, contourpy, matplotlib\n",
      "Successfully installed contourpy-1.1.1 cycler-0.12.1 matplotlib-3.8.0\n"
     ]
    }
   ],
   "source": [
    "!pip install opencv-python\n",
    "!pip install numpy\n",
    "!pip install matplotlib"
   ]
  },
  {
   "cell_type": "code",
   "execution_count": 2,
   "metadata": {},
   "outputs": [],
   "source": [
    "\n",
    "import cv2\n",
    "import numpy as np\n",
    "import matplotlib.pyplot as plt\n",
    "#from google.colab.patches import cv2_imshow\n"
   ]
  },
  {
   "cell_type": "code",
   "execution_count": 3,
   "metadata": {},
   "outputs": [],
   "source": [
    "#abria a imagem\n",
    "img = cv2.imread(\"../dataset/OperacaoPontuais_FiltroEspacial/data/t1.jpg\")"
   ]
  },
  {
   "cell_type": "code",
   "execution_count": 4,
   "metadata": {},
   "outputs": [],
   "source": [
    "#mostrando a imagem colorida\n",
    "cv2.imshow('in', img)\n",
    "cv2.waitKey(0)\n",
    "cv2.destroyAllWindows()"
   ]
  },
  {
   "cell_type": "code",
   "execution_count": 5,
   "metadata": {},
   "outputs": [],
   "source": [
    "#Este código realiza a conversão de uma imagem colorida em tons de cinza de duas maneiras diferentes, usando as bibliotecas NumPy e OpenCV (cv2). Aqui estão as etapas principais:\n",
    "\n",
    "#Ele começa pegando uma imagem colorida img e, com NumPy, calcula a média dos canais de cores vermelho, verde e azul (R, G, B) em cada pixel, criando uma imagem em tons de cinza img_grayscale_basic_np.\n",
    "\n",
    "#Em seguida, ele converte img_grayscale_basic_np em um tipo de dados inteiro sem sinal de 8 bits (np.uint8).\n",
    "\n",
    "#Usando OpenCV, ele divide a imagem img nos canais R, G e B e calcula a média desses canais para criar outra imagem em tons de cinza img_grayscale_basic_cv2.\n",
    "\n",
    "#Similarmente, a imagem img_grayscale_basic_cv2 é convertida em um tipo de dados inteiro sem sinal de 8 bits.\n",
    "\n",
    "#As duas imagens resultantes são exibidas em janelas separadas usando cv2.imshow, permitindo que você visualize a conversão para tons de cinza de ambas as abordagens. Tenha em mente que o uso de cv2.imshow requer a pressão da tecla cv2.waitKey(0) para exibir as imagens e cv2.destroyAllWindows() para fechar as janelas posteriormente.\n",
    "\n",
    "\n",
    "#aplicando conversão básica\n",
    "#numpy\n",
    "img_grayscale_basic_np = (img[:, :, 0] + img[:, :, 1] + img[:, :, 2]) / 3\n",
    "\n",
    "img_grayscale_basic_np = img_grayscale_basic_np.astype(np.uint8)\n",
    "#cv2\n",
    "B, G, R = cv2.split(img)\n",
    "\n",
    "# Create a grayscale image from the B, G, and R channels\n",
    "img_grayscale_basic_cv2 = (B + G + R) / 3\n",
    "\n",
    "img_grayscale_basic_cv2 = img_grayscale_basic_cv2.astype(np.uint8)\n",
    "# Convert the grayscale image to a NumPy array (optional)\n",
    "img_grayscale_basic = np.array(img_grayscale_basic_cv2)\n",
    "#No PC usar a seguinte forma de plotagem, para o Colab usar cv2_imshow(img)\n",
    "cv2.imshow('img_grayscale_basic_np', img_grayscale_basic_np)\n",
    "cv2.waitKey(0)\n",
    "cv2.destroyAllWindows()\n",
    "\n",
    "cv2.imshow('img_grayscale_basic', img_grayscale_basic)\n",
    "cv2.waitKey(0)\n",
    "cv2.destroyAllWindows()"
   ]
  },
  {
   "cell_type": "code",
   "execution_count": 7,
   "metadata": {},
   "outputs": [],
   "source": [
    "#Este código realiza a conversão de uma imagem colorida em tons de cinza de duas maneiras diferentes, usando as bibliotecas NumPy e OpenCV (cv2). Aqui estão as etapas principais:\n",
    "\n",
    "#Ele começa pegando uma imagem colorida img e, com NumPy, calcula a média dos canais de cores vermelho, verde e azul (R, G, B) em cada pixel, criando uma imagem em tons de cinza img_grayscale_basic_np.\n",
    "\n",
    "#Em seguida, ele converte img_grayscale_basic_np em um tipo de dados inteiro sem sinal de 8 bits (np.uint8).\n",
    "\n",
    "#Usando OpenCV, ele divide a imagem img nos canais R, G e B e calcula a média desses canais para criar outra imagem em tons de cinza img_grayscale_basic_cv2.\n",
    "\n",
    "#Similarmente, a imagem img_grayscale_basic_cv2 é convertida em um tipo de dados inteiro sem sinal de 8 bits.\n",
    "#aplicando conversão ponderada\n",
    "img_grayscale_basic_np = (0.3 * img[:, :, 0] + 0.59 * img[:, :, 1] + 0.11 * img[:, :, 2]).astype(np.uint8)\n",
    "\n",
    "#cv2\n",
    "B, G, R = cv2.split(img)\n",
    "img_grayscale_basic_cv2 = (0.3 * B + 0.59 * G + 0.11 * R).astype(np.uint8)\n",
    "img_grayscale_pondered = np.array(img_grayscale_basic_cv2)\n",
    "\n",
    "#No PC usar a seguinte forma de plotagem, para o Colab usar cv2_imshow(img)\n",
    "cv2.imshow('img_grayscale_basic_np', img_grayscale_basic_np)\n",
    "cv2.waitKey(0)\n",
    "cv2.destroyAllWindows()\n",
    "\n",
    "cv2.imshow('img_grayscale_basic', img_grayscale_pondered)\n",
    "cv2.waitKey(0)\n",
    "cv2.destroyAllWindows()"
   ]
  },
  {
   "cell_type": "markdown",
   "metadata": {},
   "source": [
    "## Histograma de uma imagem\n",
    "\n",
    "Fazer o histograma de uma imagem"
   ]
  },
  {
   "cell_type": "code",
   "execution_count": 8,
   "metadata": {},
   "outputs": [],
   "source": [
    "histogram = np.zeros(256)\n",
    "for pixel_value in img.ravel():\n",
    "    histogram[pixel_value] += 1\n",
    "#Esse código cria um histograma de uma imagem, que é uma representação da frequência de cada intensidade de cor na imagem. Ele percorre a imagem, contando quantas vezes cada valor de intensidade de pixel ocorre e armazena essas contagens em um array. O histograma ajuda na análise das características de brilho e contraste da imagem.\n"
   ]
  },
  {
   "cell_type": "code",
   "execution_count": 9,
   "metadata": {},
   "outputs": [
    {
     "data": {
      "image/png": "[encoded data removed]",
      "text/plain": [
       "<Figure size 640x480 with 1 Axes>"
      ]
     },
     "metadata": {},
     "output_type": "display_data"
    }
   ],
   "source": [
    "x = np.linspace(0, 255, 256)\n",
    "plt.bar(x, histogram)\n",
    "plt.xlabel('intensidade')\n",
    "plt.ylabel('frequência')\n",
    "plt.show()\n",
    "\n",
    "#Este trecho de código cria um histograma visual a partir do array histogram que foi calculado anteriormente (provavelmente com a contagem de intensidades de pixel em uma imagem). Aqui está uma explicação simples:"
   ]
  },
  {
   "cell_type": "markdown",
   "metadata": {},
   "source": [
    "Agora faça o histograma normalizado"
   ]
  },
  {
   "cell_type": "code",
   "execution_count": 15,
   "metadata": {},
   "outputs": [
    {
     "data": {
      "image/png": "[encoded data removed]",
      "text/plain": [
       "<Figure size 640x480 with 1 Axes>"
      ]
     },
     "metadata": {},
     "output_type": "display_data"
    }
   ],
   "source": [
    "histogram_normalized = histogram / float(np.sum(histogram))\n",
    "x = np.linspace(0, 255, 256)\n",
    "\n",
    "# Plot the normalized histogram\n",
    "plt.plot(x, histogram_normalized)\n",
    "plt.xlabel('intensidade');\n",
    "plt.ylabel('frequência');\n",
    "plt.show()\n",
    "\n",
    "#Este código cria um gráfico de linha representando o histograma normalizado de uma imagem. Ele normaliza as contagens de frequência no histograma, dividindo cada contagem pelo total de contagens na imagem. Isso ajuda a visualizar a distribuição relativa das intensidades de pixel, em vez das contagens brutas. O gráfico de linha mostra como as intensidades de pixel são distribuídas em relação umas às outras na imagem."
   ]
  },
  {
   "cell_type": "markdown",
   "metadata": {},
   "source": [
    "## Transformações"
   ]
  },
  {
   "cell_type": "markdown",
   "metadata": {},
   "source": [
    "Aplicar o conceito de transformação negativa em uma imagem. Cuide da questão de haver 3 bandas."
   ]
  },
  {
   "cell_type": "code",
   "execution_count": 14,
   "metadata": {},
   "outputs": [],
   "source": [
    "#negativo\n",
    "\n",
    "#img_negative_np[?] = ?\n",
    "\n",
    "img_in = cv2.imread(\"../dataset/OperacaoPontuais_FiltroEspacial/data/t1.jpg\")\n",
    "\n",
    "img_out = img_in.copy()\n",
    "\n",
    "img_out[:, :, 0] = 255 - img_out[:, :, 0]  # Canal Vermelho\n",
    "img_out[:, :, 1] = 255 - img_out[:, :, 1]  # Canal Verde\n",
    "img_out[:, :, 2] = 255 - img_out[:, :, 2]  # Canal Azul\n",
    "\n",
    "img_out = img_out.astype(np.uint8)\n",
    "    \n",
    "cv2.imshow('in', img_in)\n",
    "cv2.waitKey(0)\n",
    "cv2.imshow('out', img_out)\n",
    "cv2.waitKey(0)\n",
    "cv2.destroyAllWindows()\n",
    "\n",
    "#Ele carrega uma imagem colorida img_in.\n",
    "#Cria uma cópia da imagem chamada img_out.\n",
    "#Inverte as cores de cada canal de cor (vermelho, verde e azul) em img_out subtraindo cada valor de pixel do canal do valor máximo (255), resultando em um efeito de negativo da imagem.\n",
    "#Converte img_out para o tipo de dados inteiro sem sinal de 8 bits (np.uint8)."
   ]
  },
  {
   "cell_type": "markdown",
   "metadata": {},
   "source": [
    "Aplicar o conceito de transformação logaritimica em uma imagem. Cuide da questão de haver 3 bandas."
   ]
  },
  {
   "cell_type": "code",
   "execution_count": 13,
   "metadata": {},
   "outputs": [
    {
     "name": "stderr",
     "output_type": "stream",
     "text": [
      "C:\\Users\\pablo\\AppData\\Local\\Temp\\ipykernel_1964\\904368479.py:19: RuntimeWarning: divide by zero encountered in log\n",
      "  img_out[:, :, 2] = (c * np.log(1 + img_out[:, :, 2]))\n",
      "C:\\Users\\pablo\\AppData\\Local\\Temp\\ipykernel_1964\\904368479.py:19: RuntimeWarning: invalid value encountered in cast\n",
      "  img_out[:, :, 2] = (c * np.log(1 + img_out[:, :, 2]))\n"
     ]
    },
    {
     "name": "stdout",
     "output_type": "stream",
     "text": [
      "27\n"
     ]
    }
   ],
   "source": [
    "#Carrega uma imagem colorida img_in.\n",
    "\n",
    "#Cria uma cópia da imagem chamada img_out.\n",
    "\n",
    "#Define um valor de constante c (igual a 5 neste caso).\n",
    "\n",
    "#Aplica a transformação logarítmica a cada canal de cor (vermelho, verde e azul) em img_out, utilizando a fórmula c * log(1 + valor_do_pixel). Isso suaviza as intensidades dos pixels e pode realçar detalhes nas áreas escuras da imagem.\n",
    "\n",
    "#Converte img_out para o tipo de dados inteiro sem sinal de 8 bits (np.uint8).\n",
    "#logaritimica \n",
    "img_in = cv2.imread(\"../dataset/OperacaoPontuais_FiltroEspacial/data/t1.jpg\")\n",
    "\n",
    "img_out = img_in.copy()\n",
    "\n",
    "c = 5\n",
    "\n",
    "img_out[:, :, 0] = (c * np.log(1 + img_out[:, :, 0]))\n",
    "img_out[:, :, 1] = (c * np.log(1 + img_out[:, :, 1]))\n",
    "img_out[:, :, 2] = (c * np.log(1 + img_out[:, :, 2]))\n",
    "\n",
    "img_out = img_out.astype(np.uint8)\n",
    "\n",
    "print(img_out.max())\n",
    "cv2.imshow('in', img_in)\n",
    "cv2.waitKey(0)\n",
    "cv2.imshow('out', img_out)\n",
    "cv2.waitKey(0)\n",
    "cv2.destroyAllWindows()"
   ]
  },
  {
   "cell_type": "markdown",
   "metadata": {},
   "source": [
    "Aplicar o conceito de transformação de gamma em uma imagem. Cuide da questão de haver 3 bandas."
   ]
  },
  {
   "cell_type": "code",
   "execution_count": 15,
   "metadata": {},
   "outputs": [
    {
     "name": "stdout",
     "output_type": "stream",
     "text": [
      "Maximum value of the output image: 79\n"
     ]
    }
   ],
   "source": [
    "img_in = cv2.imread(\"../dataset/OperacaoPontuais_FiltroEspacial/data/t1.jpg\")\n",
    "\n",
    "img_out = img_in.copy()\n",
    "\n",
    "c = 5\n",
    "gamma = 0.5 \n",
    "\n",
    "img_out[:, :, 0] = (c * (img_out[:, :, 0] ** gamma))\n",
    "img_out[:, :, 1] = (c * (img_out[:, :, 1] ** gamma))\n",
    "img_out[:, :, 2] = (c * (img_out[:, :, 2] ** gamma))\n",
    "\n",
    "img_out = img_out.astype(np.uint8)\n",
    "\n",
    "\n",
    "print(\"Maximum value of the output image:\", img_out.max())\n",
    "cv2.imshow('in', img_in)\n",
    "cv2.waitKey(0)\n",
    "cv2.imshow('out', img_out)\n",
    "cv2.waitKey(0)\n",
    "cv2.destroyAllWindows()\n",
    "\n",
    "#Este código aplica uma correção gamma à imagem, que é um processo comumente usado para ajustar o contraste e brilho de uma imagem. Aqui está o que ele faz:\n",
    "\n",
    "#Carrega uma imagem colorida img_in.\n",
    "\n",
    "#Cria uma cópia da imagem chamada img_out.\n",
    "\n",
    "#Define um valor de constante c (igual a 5) e um valor de gama gamma (igual a 0,5).\n",
    "\n",
    "#Aplica a correção gama a cada canal de cor (vermelho, verde e azul) em img_out, elevando os valores dos pixels a gamma e multiplicando pelo valor de c. Isso ajusta o contraste e o brilho da imagem.\n",
    "\n",
    "#Converte img_out para o tipo de dados inteiro sem sinal de 8 bits (np.uint8).\n",
    "\n",
    "#Exibe a imagem original (img_in) e a imagem com a correção gama (img_out) em janelas separadas usando cv2.imshow.\n",
    "\n",
    "#O resultado é uma imagem com o contraste e brilho ajustados de acordo com a correção gama definida pelos valores de c e gamma."
   ]
  },
  {
   "cell_type": "markdown",
   "metadata": {},
   "source": [
    "Aplicar o conceito de transformação de alargamento de contraste em uma imagem. Cuide da questão de haver 3 bandas."
   ]
  },
  {
   "cell_type": "code",
   "execution_count": 16,
   "metadata": {},
   "outputs": [],
   "source": [
    "#alargamento de contraste\n",
    "img_in = cv2.imread(\"../dataset/OperacaoPontuais_FiltroEspacial/data/t1.jpg\")\n",
    "\n",
    "img_out = img_in.copy()\n",
    "\n",
    "min_values = np.min(img_in, axis=(0, 1))\n",
    "max_values = np.max(img_in, axis=(0, 1))\n",
    "\n",
    "for i in range(3):\n",
    "    img_out[:, :, i] = ((img_out[:, :, i] - min_values[i]) / (max_values[i] - min_values[i]) * 255)\n",
    "            \n",
    "img_out = img_out.astype(np.uint8)\n",
    "\n",
    "cv2.imshow('in', img_in)\n",
    "cv2.waitKey(0)\n",
    "cv2.imshow('out', img_out)\n",
    "cv2.waitKey(0)\n",
    "cv2.destroyAllWindows()\n",
    "\n",
    "#Este código realiza um alargamento de contraste em uma imagem. Em resumo:\n",
    "\n",
    "#Carrega uma imagem colorida img_in.\n",
    "\n",
    "#Cria uma cópia da imagem chamada img_out.\n",
    "\n",
    "#Calcula os valores mínimos e máximos de intensidade de pixel em cada canal de cor (vermelho, verde e azul) na imagem original.\n",
    "\n",
    "#Aplica a transformação de alargamento de contraste a cada canal de cor em img_out, mapeando os valores de pixel de entrada do intervalo mínimo-máximo para o intervalo completo de 0 a 255, com base nas informações encontradas no passo anterior.\n",
    "\n",
    "#Converte img_out para o tipo de dados inteiro sem sinal de 8 bits (np.uint8).\n",
    "\n",
    "#Exibe a imagem original (img_in) e a imagem com o contraste ampliado (img_out) em janelas separadas usando cv2.imshow.\n",
    "\n",
    "#O resultado é uma imagem com o contraste ampliado, tornando as variações de intensidade de pixel mais visíveis e, portanto, realçando os detalhes da imagem.\n",
    "\n",
    "\n",
    "\n",
    "\n",
    "\n"
   ]
  },
  {
   "cell_type": "markdown",
   "metadata": {},
   "source": [
    "Aplicar o conceito de transformação de contraste e brilho em uma imagem. Cuide da questão de haver 3 bandas."
   ]
  },
  {
   "cell_type": "code",
   "execution_count": 17,
   "metadata": {},
   "outputs": [],
   "source": [
    "#contraste e brilho\n",
    "img_in = cv2.imread(\"../dataset/OperacaoPontuais_FiltroEspacial/data/t1.jpg\")\n",
    "\n",
    "img_out = img_in.copy()\n",
    "\n",
    "a = 1\n",
    "b = 10\n",
    "\n",
    "img_out = (a * img_out + b)\n",
    "\n",
    "img_out = img_out.astype(np.uint8)\n",
    "\n",
    "\n",
    "# Exiba as imagens de entrada e saída\n",
    "cv2.imshow('in', img_in)\n",
    "cv2.waitKey(0)\n",
    "cv2.imshow('out', img_out)\n",
    "cv2.waitKey(0)\n",
    "cv2.destroyAllWindows()\n",
    "\n",
    "#Carrega uma imagem colorida img_in.\n",
    "\n",
    "#Cria uma cópia da imagem chamada img_out.\n",
    "\n",
    "#Define dois valores, a (igual a 1) para o ajuste de contraste e b (igual a 10) para o ajuste de brilho.\n",
    "\n",
    "#Aplica um ajuste linear a cada canal de cor em img_out, multiplicando todos os valores de pixel por a (ajuste de contraste) e, em seguida, adicionando b (ajuste de brilho).\n",
    "\n",
    "#Converte img_out para o tipo de dados inteiro sem sinal de 8 bits (np.uint8).\n",
    "\n",
    "#Exibe a imagem original (img_in) e a imagem com os ajustes de contraste e brilho (img_out) em janelas separadas usando cv2.imshow.\n",
    "\n",
    "#O resultado é uma imagem com contraste e brilho alterados de acordo com os valores definidos para a e b, o que pode realçar ou suavizar os detalhes na imagem, dependendo das configurações."
   ]
  },
  {
   "cell_type": "markdown",
   "metadata": {},
   "source": [
    "Aplicar o conceito de transformação de limiar em uma imagem. Cuide da questão de haver 3 bandas."
   ]
  },
  {
   "cell_type": "code",
   "execution_count": 23,
   "metadata": {},
   "outputs": [],
   "source": [
    "#limiar\n",
    "img_in = cv2.imread(\"../dataset/OperacaoPontuais_FiltroEspacial/data/t1.jpg\")\n",
    "\n",
    "img_out = img_in.copy()\n",
    "\n",
    "a = 128\n",
    "\n",
    "for i in range(3):\n",
    "    img_out[img_out < a] = 0\n",
    "    img_out[img_out >= a] = 255\n",
    "\n",
    "img_out = img_out.astype(np.uint8)\n",
    "\n",
    "cv2.imshow('in', img_in)\n",
    "cv2.waitKey(0)\n",
    "cv2.imshow('out', img_out)\n",
    "cv2.waitKey(0)\n",
    "cv2.destroyAllWindows()\n",
    "\n",
    "#Carrega uma imagem colorida img_in.\n",
    "\n",
    "#Cria uma cópia da imagem chamada img_out.\n",
    "\n",
    "#Define um valor de limite a (igual a 128).\n",
    "\n",
    "#Itera pelos canais de cor (vermelho, verde e azul) na imagem.\n",
    "\n",
    "#Para cada canal, todos os pixels com valores menores que a são definidos como 0 (preto), e os pixels com valores maiores ou iguais a a são definidos como 255 (branco).\n",
    "\n",
    "#Converte img_out para o tipo de dados inteiro sem sinal de 8 bits (np.uint8).\n",
    "\n",
    "#Exibe a imagem original (img_in) e a imagem resultante da limiarização (img_out) em janelas separadas usando cv2.imshow.\n",
    "\n",
    "#O resultado é uma imagem binária em preto e branco, onde os pixels são separados com base no valor de limiar a, realçando as áreas da imagem que excedem o limiar e tornando o restante preto."
   ]
  },
  {
   "cell_type": "markdown",
   "metadata": {},
   "source": [
    "Aplicar o conceito de transformação de limiar com fatiamento de plano em uma imagem. Cuide da questão de haver 3 bandas."
   ]
  },
  {
   "cell_type": "code",
   "execution_count": 24,
   "metadata": {},
   "outputs": [],
   "source": [
    "img_in = cv2.imread(\"../dataset/OperacaoPontuais_FiltroEspacial/data/t1.jpg\")\n",
    "\n",
    "a = 127\n",
    "b = 200\n",
    "\n",
    "img_out = img_in.copy()\n",
    "\n",
    "img_out[ img_out<= a] = 0\n",
    "img_out[img_out >= b] = 0\n",
    "img_out[(img_out > a) & (img_out < b)] = 255\n",
    "\n",
    "cv2.imshow('in', img_in)\n",
    "cv2.imshow('out', img_out)\n",
    "cv2.waitKey(0)\n",
    "cv2.destroyAllWindows()\n",
    "\n",
    "#Esse código realiza uma operação de segmentação em uma imagem. Em resumo:\n",
    "\n",
    "#Carrega uma imagem colorida img_in.\n",
    "\n",
    "#Define dois valores de limite, a (igual a 127) e b (igual a 200).\n",
    "\n",
    "#Cria uma cópia da imagem chamada img_out.\n",
    "\n",
    "#Todos os pixels na imagem original com valores menores ou iguais a a são definidos como 0 (preto).\n",
    "\n",
    "#Todos os pixels com valores maiores ou iguais a b também são definidos como 0 (preto).\n",
    "\n",
    "#Os pixels que possuem valores entre a e b são definidos como 255 (branco).\n",
    "\n",
    "#Exibe a imagem original (img_in) e a imagem segmentada (img_out) em janelas separadas usando cv2.imshow.\n",
    "\n",
    "#O resultado é uma imagem onde os pixels com valores dentro do intervalo definido por a e b ficam brancos, enquanto os outros se tornam pretos, destacando uma faixa específica de intensidades na imagem."
   ]
  }
 ],
 "metadata": {
  "kernelspec": {
   "display_name": "Python 3",
   "language": "python",
   "name": "python3"
  },
  "language_info": {
   "codemirror_mode": {
    "name": "ipython",
    "version": 3
   },
   "file_extension": ".py",
   "mimetype": "text/x-python",
   "name": "python",
   "nbconvert_exporter": "python",
   "pygments_lexer": "ipython3",
   "version": "3.12.0"
  }
 },
 "nbformat": 4,
 "nbformat_minor": 4
}
